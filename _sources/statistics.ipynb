{
 "cells": [
  {
   "cell_type": "markdown",
   "metadata": {},
   "source": [
    "\n",
    "# Notes on Statistics and Finance\n",
    "\n",
    "If we have a random variable $X$, then a sample of size $n$ consist of $n$ observations on $X$ {cite}`fundamentals_quant_finance`. \n",
    "The characteristics of this sample can be represented using a sample statistics such as:\n",
    "\n",
    "* **Mean $\\bar x $**: a measure of location of the sample. Alternatives measures of sample location are median and mode.\n",
    "* **Variance $s$**: a measure of dispersion of the sample \n",
    "* **Skewness**: a measure of asymmetry in the sample. Assets returns are skewed due to trending nature of markets. \n",
    "* **Kurtosis**:  measures relative weight in the tails and the centre. Asset returns present high kurtosis because of the presence of market crashes and the fact that trading is discountinous, so that you can have jumps in prices. \n",
    "\n",
    "But we are not interested in the values of the sample statistics, but in the values of the equivalent population statistics (e.g $\\mu$, $\\sigma^2$) that can give us the characteristics of the random variable $X$.  Those values are clearly not knowable exactly, but we can approximate them using *statistical inference* from the sample values.\n",
    "\n",
    "## Statistical Inference\n",
    "\n",
    "\n",
    "**Inference Variance** \n",
    "\n",
    "$\\alpha$ **-quantile** For any given random variable $X$, it can be useful to know the number $x_\\alpha$  for which the probabililty of X being less than number $x_\\alpha$ is $\\alpha$: e.g the 95% quantile of the standard norm distribution is the number 1.644. \n"
   ]
  },
  {
   "cell_type": "code",
   "execution_count": 25,
   "metadata": {},
   "outputs": [
    {
     "name": "stdout",
     "output_type": "stream",
     "text": [
      "1.6448536269514722\n"
     ]
    }
   ],
   "source": [
    "from scipy.stats import norm\n",
    "alpha = 0.95\n",
    "x_alpha = norm.ppf(alpha)\n",
    "print(x_alpha)"
   ]
  },
  {
   "cell_type": "markdown",
   "metadata": {},
   "source": [
    "\n",
    "**Confidence Intervals** We extend this concept to a range, so a $\\alpha$ confidence interval for a random variable $X$ is a range in which X falls with probability $\\alpha$"
   ]
  },
  {
   "cell_type": "code",
   "execution_count": 28,
   "metadata": {},
   "outputs": [
    {
     "name": "stdout",
     "output_type": "stream",
     "text": [
      "(-1.959963984540054, 1.959963984540054)\n"
     ]
    }
   ],
   "source": [
    "print(norm.interval(0.95))"
   ]
  },
  {
   "cell_type": "markdown",
   "metadata": {},
   "source": [
    "#### Central Limit Theorem\n",
    "Suppose we drawn a sample of size $n$, from a population having random variable $X$, mean $\\mu$ and variance $\\sigma^2$. The CLT states that as $n\\to\\infty$ then\n",
    "\n",
    "$$\\frac{\\bar x - \\mu}{\\frac{\\sigma}{\\sqrt n}} \\approx N(0,1) $$\n",
    "\n",
    "\n",
    "Surprisingly, this doesn't suppose that the random variable $X$ is normally distributed, but only that it has a defined mean $\\mu$ and a variance $\\sigma^2$. \n",
    "\n",
    "**Applications of CLT** \n",
    "\n",
    "We can use CLT to test an hypothesis on the mean of the population given the sample mean and some confidence interval. \n",
    "\n",
    "Since we don't kow the $\\sigma$ of the population, there is an additional theorical result we can use for our purpose, if we suppose that the random variable X approximate a normal distribution $N(\\mu, \\sigma^2)$:\n",
    "\n",
    "$$\\frac{\\bar x - \\mu}{\\frac{s}{\\sqrt n}} \\approx t_{n-1} $$\n",
    "\n",
    "An example taken from {cite}`fundamentals_quant_finance`, using scipy\n"
   ]
  },
  {
   "cell_type": "code",
   "execution_count": 2,
   "metadata": {},
   "outputs": [
    {
     "name": "stdout",
     "output_type": "stream",
     "text": [
      "1.3006170102856744 8.699382989714326\n"
     ]
    }
   ],
   "source": [
    "from scipy.stats import t\n",
    "import numpy as np\n",
    "\n",
    "student_dist = t(6)\n",
    "interval = student_dist.interval(0.95)\n",
    "a, b =[-(4*x/np.sqrt(7) - 5) for x in interval]\n",
    "print(min(a,b), max(a,b))\n"
   ]
  },
  {
   "cell_type": "markdown",
   "metadata": {},
   "source": [
    "#### Hypothesis Testing\n",
    "\n",
    "Rules\n",
    "1. State null and alternative hypotheses\n",
    "2. Chose a test statistics and state its distribution\n",
    "3. Find the value of the test statistics given your data, under the null hypothesis\n",
    "4. Choose a significance level\n",
    "5. Find the critical values of the test statistics for the critical level\n",
    "6. Compare your value with the critical value: if the value is above the critical value, reject the null hypothesis \n"
   ]
  },
  {
   "cell_type": "markdown",
   "metadata": {},
   "source": [
    "\n",
    "You a sample of size 25, you find the mean $\\bar x = -2$ and the variance $s = 5$. You want to test two hypothesis: the null hypothesis $\\mu = 0$ and the hypothesis that $\\mu < 0$. \n",
    "\n",
    "What is the value of your test statistics under the null hypothesis?\n",
    "\n",
    "$t_0 = \\frac{-2 - 0}{5/5} = -2$\n",
    "\n",
    "Let's take 5% significance level. What is the critical value for the test statistics for 5% significance level?\n",
    "P(X < t*) = 0.05 \n",
    "\n",
    "\n"
   ]
  },
  {
   "cell_type": "code",
   "execution_count": 34,
   "metadata": {},
   "outputs": [
    {
     "data": {
      "text/plain": [
       "-1.7108820799094282"
      ]
     },
     "execution_count": 34,
     "metadata": {},
     "output_type": "execute_result"
    }
   ],
   "source": [
    "t(24).ppf(0.05)  "
   ]
  },
  {
   "cell_type": "markdown",
   "metadata": {},
   "source": [
    "Since $t_0 < t^*$, then we reject the null hypothesis is favor of the alternative hypothesis. \n",
    "\n",
    "## Sampling Distribution and Hypothesis Testing\n",
    "The sampling distribution are valid for hypothesis thesis and confidence intervals only under the assumption of a normal population. We can use the CLT only if we are testing for the mean of a population in the case we have a very large sample. \n",
    "\n",
    "Normal or Student-t distribution are used for inferences from sample means to population means, while Chi-squared are used for inference on variance. \n",
    "\n",
    "**Type I errors**: We reject the null hypothesis even if it is true. The probability of doing a Type I error is equal to the significance level $\\alpha$. \n",
    "**Type II errors**: We fail to reject the null hypothesis even if its false. \n",
    "\n",
    "The statistical power of a study is the probability of not committing a Type II error. We can increase the power by increasing the confidence level (but we increase the Type I error by doing so) or by increasing the sample size (since variance of sample distribution depends from the sample size).\n"
   ]
  },
  {
   "cell_type": "code",
   "execution_count": 9,
   "metadata": {},
   "outputs": [
    {
     "data": {
      "text/plain": [
       "-1.5452444955452138"
      ]
     },
     "execution_count": 9,
     "metadata": {},
     "output_type": "execute_result"
    }
   ],
   "source": []
  },
  {
   "cell_type": "code",
   "execution_count": 4,
   "metadata": {},
   "outputs": [
    {
     "data": {
      "text/plain": [
       "-1.5"
      ]
     },
     "execution_count": 4,
     "metadata": {},
     "output_type": "execute_result"
    }
   ],
   "source": []
  },
  {
   "cell_type": "code",
   "execution_count": 1,
   "metadata": {},
   "outputs": [],
   "source": [
    "import numpy as np"
   ]
  },
  {
   "cell_type": "code",
   "execution_count": 2,
   "metadata": {},
   "outputs": [
    {
     "data": {
      "text/plain": [
       "0.03872983346207417"
      ]
     },
     "execution_count": 2,
     "metadata": {},
     "output_type": "execute_result"
    }
   ],
   "source": [
    "np.sqrt(0.0015)"
   ]
  },
  {
   "cell_type": "code",
   "execution_count": 3,
   "metadata": {},
   "outputs": [],
   "source": [
    "from scipy.stats import norm"
   ]
  },
  {
   "cell_type": "code",
   "execution_count": 4,
   "metadata": {},
   "outputs": [
    {
     "data": {
      "text/plain": [
       "(-1.959963984540054, 1.959963984540054)"
      ]
     },
     "execution_count": 4,
     "metadata": {},
     "output_type": "execute_result"
    }
   ],
   "source": [
    "norm.interval(0.95)"
   ]
  },
  {
   "cell_type": "code",
   "execution_count": null,
   "metadata": {},
   "outputs": [],
   "source": []
  }
 ],
 "metadata": {
  "kernelspec": {
   "display_name": "Python 3",
   "language": "python",
   "name": "python3"
  },
  "language_info": {
   "codemirror_mode": {
    "name": "ipython",
    "version": 3
   },
   "file_extension": ".py",
   "mimetype": "text/x-python",
   "name": "python",
   "nbconvert_exporter": "python",
   "pygments_lexer": "ipython3",
   "version": "3.8.2"
  }
 },
 "nbformat": 4,
 "nbformat_minor": 4
}
